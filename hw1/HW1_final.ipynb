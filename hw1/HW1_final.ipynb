{
 "cells": [
  {
   "cell_type": "code",
   "execution_count": 1,
   "metadata": {},
   "outputs": [],
   "source": [
    "import numpy as np\n",
    "import pandas as pd\n",
    "import glob"
   ]
  },
  {
   "cell_type": "markdown",
   "metadata": {},
   "source": [
    "##### Загрузим несколько подходящих по объёму текстов вместе с их ключевыми словами, представленными в виде строк (один или несколько токенов), которые хранятся в отдельных файлах типа \"filename\".key из датасета 500N-KPCrowd-v1.1:\n",
    "(https://github.com/LIAAD/KeywordExtractor-Datasets/tree/master/datasets)"
   ]
  },
  {
   "cell_type": "code",
   "execution_count": 2,
   "metadata": {},
   "outputs": [],
   "source": [
    "from pymorphy2 import MorphAnalyzer\n",
    "from pymorphy2.tokenizers import simple_word_tokenize\n",
    "\n",
    "m = MorphAnalyzer()\n",
    "def normalize_text(text):\n",
    "    lemmas = []\n",
    "    for t in simple_word_tokenize(text):\n",
    "        lemmas.append(\n",
    "            m.parse(t)[0].normal_form\n",
    "        )\n",
    "    return ' '.join(lemmas)"
   ]
  },
  {
   "cell_type": "code",
   "execution_count": 3,
   "metadata": {},
   "outputs": [
    {
     "name": "stdout",
     "output_type": "stream",
     "text": [
      "art_and_culture-20904497.txt\n",
      "art_and_culture-20906308.txt\n",
      "art_and_culture-20906350.txt\n",
      "art_and_culture-20906382.txt\n",
      "art_and_culture-20893614.txt\n",
      "art_and_culture-20900470.txt\n"
     ]
    }
   ],
   "source": [
    "dirPath = \"docs/my_docs/*.txt\"\n",
    "dirPathKeys = \"docs/my_keys/*.key\"\n",
    "\n",
    "# numberDocs = 5\n",
    "docs = dict()\n",
    "keys = []\n",
    "# print(glob.glob(dirPath))\n",
    "for i in range(len(glob.glob(dirPath))):\n",
    "    docPath = glob.glob(dirPath)[i]\n",
    "    with open(docPath, \"r\") as f:\n",
    "        docs[docPath.split(\"/\")[-1]] = dict()\n",
    "#         docs[docPath.split(\"/\")[-1]][\"text\"] = normalize_text(f.read())\n",
    "        docs[docPath.split(\"/\")[-1]][\"text\"] = f.read()\n",
    "        \n",
    "for i in range(len(glob.glob(dirPathKeys))):\n",
    "    docPath = glob.glob(dirPathKeys)[i]\n",
    "    with open(docPath, \"r\") as f:\n",
    "        docs[docPath.split(\"/\")[-1][:-3] + \"txt\"][\"keys\"] = f.read().split(\"\\n\")\n",
    "\n",
    "# len(docs[].split())\n",
    "# [print(v) for k, v in docs.items()]\n",
    "[print(k) for k, v in docs.items()]\n",
    "pass"
   ]
  },
  {
   "cell_type": "markdown",
   "metadata": {},
   "source": [
    "## (2 балла) Разметить ключевые слова самостоятельно. Оценить пересечение с имеющейся разметкой. Составить эталон разметки (например, пересечение или объединение вашей разметки и исходной)."
   ]
  },
  {
   "cell_type": "code",
   "execution_count": 4,
   "metadata": {},
   "outputs": [
    {
     "name": "stdout",
     "output_type": "stream",
     "text": [
      "art_and_culture-20904497.txt\n",
      "\n",
      "&#039;Bones&#039; Star Emily Deschanel pregnant with first child\n",
      "April 1, 2011 - \"\"Bones\"\" actress Emily Deschanel and her husband, David Hornsby, are expecting their first child. Emily, who is the sister of actress Zoeey Deschanel, confirmed her pregnancy on Thursday. Deschanel and Hornsby, who is known for his role on \"\"It's Always Sunny in Philadelphia,\"\" began dating in 2007. The expectant couple married last September in LA. Emily Dechanel now joins the long list of women in Hollywood expecting babies this year. \"\"Emily Deschanel is pregnant,\"\" tweeted one Cleveland resident who watches \"\"Bones\"\" on local FOX 8. As fans are excited for Emily as she embarks on motherhood, some also wonder how her pregnancy will affect the show. Advertisement How do you think \"\"Bones\"\" will work around Emily Deschanel's pregnancy? Should they film around her third trimester, or dress her in bigger clothes, trying to hide her baby bump? Do you think Zooey Deschanel will make a fun Aunt? Leave your comments below. Check out more of the latest Celebrity and TV news here! \n",
      "\n",
      "['confirmed', 'year', 'pregnant', 'September', 'TV', 'embarks', \"Deschanel's pregnancy\", 'third trimester', 'Philadelphia', 'comments below', 'excited', 'Dechanel', 'Advertisement', 'bigger clothes', 'Celebrity', '039Bones039', 'expectant couple', 'joins', 'known', 'actress Zoeey', 'babies', 'baby bump', 'Emily', 'child', 'sister', 'Hollywood', 'motherhood', 'women', 'expecting', 'April', 'trimester', 'Bones', 'bigger', 'around her', 'Hollywood expecting babies', 'long', 'expectant', 'dress', 'fans', 'Deschanel', 'affect', 'work around', 'Thursday Deschanel', 'pregnancy']\n",
      "\n",
      "\n",
      "\n",
      "\n",
      "\n",
      "\n",
      "\n",
      "art_and_culture-20906308.txt\n",
      "\n",
      "&#039;Dark Shadows&#039; update: Chloe Moretz in talks to join cast\n",
      "If I wasn't already totally pumped for Tim Burton's \"\"Dark Shadows\"\" movie (which I already was), the latest casting news would be enough to do it. Chloe Moretz is reportedly now in talks to sign on. According to Deadline Hollywood, the young star of \"\"Kick Ass\"\" and \"\"Let Me In\"\" would play Carolyn, daughter of Collins matriarch Elizabeth Collins Stoddard, who's going to be played by Michelle Pfeiffer. Moretz, who just wrapped on Martin Scorsese's \"\"Hugo Cabret,\"\" played a vampire in \"\"Let Me In.\"\" Carolyn became the victim of vampire Barnabas Collins in earlier incarnations, notably the feature based on the original soap, \"\"House of Dark Shadows.\"\" Carolyn is clearly going to be younger in this version. Moretz is only 14. This will be her second outing with Johnny Depp, who is playing Barnabas Collins in Burton's movie, and is top-billed in \"\"Hugo Cabret.\"\" Advertisement \"\"Hugo Cabret\"\" also features Sir Christopher Lee, for my money the best screen Dracula. Yesterday it was announced that young Aussie actor Gulliver McGrath, who auditioned for the part of Hugo Cabret would be playing the role of David Collins in \"\"Dark Shadows.\"\" The part of Hugo Cabret ultimately went to Asa Butterfield, but McGrath did end up with a small part in the movie. David is the charge of governess Victoria Winters, a classic mold gothic heroine who will be played by Bella Heathcoate. It's widely believed at this point that Michael Sheen, known to be circling the project, will play David's father, Roger Collins. \n",
      "\n",
      "['would play Carolyn', 'join cast', '039Dark Shadows039', 'Chloe Moretz', \"Tim Burton's\", 'second outing with Johnny Depp', 'incarnations', 'Hugo Cabret', 'victim of vampire', 'daughter', 'version', 'matriarch Elizabeth Collins', 'Carolyn', 'Michael Sheen', 'would play', \"David's father\", 'younger', 'original soap House of Dark Shadows', 'David Collins', 'Christopher Lee', 'Dracula']\n",
      "\n",
      "\n",
      "\n",
      "\n",
      "\n",
      "\n",
      "\n",
      "art_and_culture-20906350.txt\n",
      "\n",
      "The Tree of Life to premiere in UK\n",
      "An insider’s guide to the world of cinema by David Gritten. It’s a very British coup — legendary US director Terrence Malick’s long-awaited new film The Tree of Life, starring Brad Pitt and Sean Penn, is to receive its world premiere not in Cannes next month, but a week earlier in the UK. Its distribution company, Icon, has confirmed its May 4 British release date to me. Speculation about the film has been swirling for more than a year; at one point, it was expected to be screened in Cannes last year. This all adds to the mystique that surrounds the elusive Malick. The film’s American distributor, Fox Searchlight, was clearly taken by surprise by news of the UK opening, describing it as “not true” to a Hollywood website. My guess is that the film will still be shown in Cannes, though not in competition for the Palme d’Or. What do you get when you combine the talents of Johnny Depp, gonzo author-journalist Hunter S Thompson and Bruce Robinson, wayward writer‑director of Withnail and I? A combustible mix, certainly. Or maybe three good reasons to look forward to the autumn release of Rum Diary, a film based on Thompson’s semi-autobiographical novel, starring Depp and scripted by Robinson, who has also directed; it’s his first film in nearly 20 years. Thompson (who died in 2005) showed Depp the draft of his Rum Diary novel 15 years back, while Depp was shooting another of his works, Fear and Loathing in Las Vegas, and urged him to star in it. I gather Rum Diary, in which Depp plays a thinly disguised journalist, down on his luck in Puerto Rico, was completed two years ago. It certainly won’t be boring. \n",
      "\n",
      "['Life', 'world premiere', 'disguised journalist', 'surprise', 'novel', 'Vegas', 'Hollywood website', 'reasons', 'Tree', 'completed', 'British', 'guess', 'world', 'screened', 'talents', 'describing', 'film based', 'swirling', 'Loathing', 'premiere', 'receive', 'Speculation', 'expected', 'cinema', 'guide', 'mystique', 'year', 'Thompson', 'journalist', 'autumn release', 'years', 'Terrence', 'American distributor', 'semiautobiographical', 'news', 'distribution company Icon', 'writerdirector', 'gather', 'British release', 'luck', 'Robinson', 'good reasons', 'gonzo authorjournalist', 'Withnail', 'mix certainly', 'first film', 'Malick', 'draft', 'two', 'not true', 'longawaited']\n",
      "\n",
      "\n",
      "\n",
      "\n",
      "\n",
      "\n",
      "\n",
      "art_and_culture-20906382.txt\n",
      "\n",
      "Former Lois Lane Kidder Praises Adams Casting\n",
      "Margot Kidder has welcomed the casting of her latest Lois Lane successor in the new Superman movie, insisting newly-hired Amy Adams is a \"\"better actress than I am\"\". The Enchanted star will play the intrepid reporter in director Zack Snyder's upcoming reboot of the comic book franchise, alongside Henry Cavill as the Man of Steel. Kidder, who portrayed Lane in Superman: The Movie in 1978 and three sequels with Christopher Reeve, was delighted to hear about Adams' casting, and is convinced the Oscar nominee is perfect for the role. She tells MTV, \"\"She's a brilliant, wonderful actress! She's incredible. She's an extraordinarily accomplished young lady - and gorgeous and full of energy and spirit. She's so different from part to part, it's going to be really interesting to see what she does with Lois. \"\"I think Amy Adams is so much better an actress than I am that I wouldn't even for a second presume to give her any advice on the subject at all.\"\" Kate Bosworth was the last actress to play Lois Lane on the big screen, appearing in Bryan Singer's film Superman Returns. \n",
      "\n",
      "['Lane', \"Snyder's upcoming\", 'Henry', 'in director', 'screen', 'comic', 'who portrayed', 'brilliant', 'different', 'presume', 'Superman', 'franchise', 'really', 'advice', 'last', 'Oscar', \"Adams'\", 'Man', \"wouldn't even\", 'Lois', 'Reeve', 'gorgeous', 'incredible', 'new Superman movie', 'energy', 'upcoming reboot', 'casting', 'role', 'insisting', 'convinced', 'director', 'Enchanted star', 'portrayed', 'subject', 'extraordinarily', 'actress', 'successor', 'second', 'wonderful actress', 'delighted', 'really interesting', 'comic book', 'intrepid reporter', 'sequels', 'perfect', 'play', 'welcomed']\n",
      "\n",
      "\n",
      "\n",
      "\n",
      "\n",
      "\n",
      "\n",
      "art_and_culture-20893614.txt\n",
      "\n",
      "Singer Michael Buble weds TV star Luisana Lopilato\n",
      "Canadian pop star Michael Buble kisses his bride Argentine TV actress Luisana Lopilato after their civil wedding ceremony in Buenos Aires, Argentina, Thursday March 31, 2011. (AP Photo/Natacha Pisarenko) BUENOS AIRES, Argentina (AP) - Canadian pop star Michael Buble married Argentine TV actress Luisana Lopilato in a civil ceremony on Thursday. The Grammy-winning singer of \"\"Crazy Love\"\" and his Argentine sweetheart posed for a mob of fans after tying the knot at a civil registry in downtown Buenos Aires. She wore a lilac chiffon dress with silver high heels and Buble wore a sharp gray suit as he leaned down for a smooch. Then Lopilato, 23, tossed a bouquet of purple orchids into the crowd as some fans threw rice and red rose petals and a young woman shouted \"\"I love you Michael!\"\" Buble, 35, won his Grammy last month for traditional pop vocal album, and is one of North America's top-grossing concert entertainers. Lopilato made her name as a model and in Argentine sitcoms and soap operas, including \"\"Rebel Way,\"\" \"\"Little Girls,\"\" \"\"Married With Children\"\" and \"\"Pirate Soul.\"\" The couple plan a full ceremony with 300 guests next month at a mansion outside Buenos Aires, and another wedding in Vancouver in April. They have homes in Canada, Los Angeles and Buenos Aires province. Buble dated British actress Emily Blunt for several years before he met Lopilato in 2009 during a South American concert tour. Lopilato was romantically involved before with tennis player Juan Monaco. With more than 500,000 fans and followers in Facebook and Twitter, Lopilato sent messages throughout the day, thanking her family and the media. \"\"How beautiful it all was!\"\" she wrote. \n",
      "\n",
      "['married Argentine', 'his Grammy', 'ceremony', 'kisses', 'messages', 'romantically', 'vocal', 'Argentine', 'woman', 'Buble dated', 'thanking', 'wedding ceremony', 'Canadian', 'Michael', 'bouquet', 'vocal album', 'Crazy Love', 'Canadian pop', 'Argentina AP', 'mansion', 'Facebook', 'rose', 'Argentine sweetheart', 'month', 'registry', 'South American', 'after tying', 'downtown', 'beautiful', 'traditional', 'Grammy', 'Vancouver', 'chiffon dress', 'Grammywinning', 'family', 'Lopilato made', 'North', 'bride Argentine TV actress', 'media', 'Twitter', 'met', 'high']\n",
      "\n",
      "\n",
      "\n",
      "\n",
      "\n",
      "\n",
      "\n",
      "art_and_culture-20900470.txt\n",
      "\n",
      "Craig \"\"will do Larsson justice\"\"\n",
      "Daniel Craig will do Stieg Larsson justice, film producer Soren Staermose has said. The 007 star has been filming his role as investigative journalist Mikael Blomkvist in David Fincher's Hollywood remake of The Girl With The Dragon Tattoo, and Soren - who produced both adaptations - reckons he is the right man for the role. \"\"There's no doubt about that - Daniel is a great actor and very likeable, so we are super-confident,\"\" he said. The Swedish film producer also heaped praise on Rooney Mara, who portrays troubled computer hacker Lisbeth Salander, originally played by Noomi Rapace. \"\"It is a big role, but she's a very good actress and she goes all the way,\"\" Soren continued. \"\"I saw her in The Social Network and thought she was incredible. She is much younger, and is going to do a faithful adaptation. She is extraordinary.\"\" While the Swedish big-screen adaptations of Stieg Larsson's best-selling novel trilogy have been a hit, Soren hopes David's remake will bring a new audience. \"\"We are so proud to get David Fincher on board. The Stieg Larsson family is very proud too, because a big director like him and the way he can adapt such a big, huge book,\"\" he said. \"\"With an American movie, when they cross borders, they can reach corners of the world that we don't hit with our Swedish version. A big US version is very important for the Stieg Larsson estate too. We are very happy.\"\" :: The Girl Who Kicked The Hornet's Nest is available on DVD on April 11. \n",
      "\n",
      "['role', 'American', 'board', 'Staermose', 'Daniel', 'version', 'adaptations  reckons', 'happy', 'superconfident', 'Larsson estate', 'great actor', 'Craig', 'likeable', 'big director like', 'Social Network', 'much younger', 'hit', 'family', 'investigative journalist', 'right man', 'remake', 'good actress', 'justice film producer', 'adapt', 'computer hacker', 'David', 'audience', 'important', 'faithful adaptation', 'proud', 'praise', 'Nest', 'journalist', 'big', 'computer', 'star', 'film producer', 'DVD', 'adaptation', 'world', 'very happy', 'big role', 'American movie', 'justice', 'US version', 'Girl', 'very good', 'Hollywood', 'April', 'book']\n",
      "\n",
      "\n",
      "\n",
      "\n",
      "\n",
      "\n",
      "\n"
     ]
    },
    {
     "data": {
      "text/plain": [
       "[None, None, None, None, None, None]"
      ]
     },
     "execution_count": 4,
     "metadata": {},
     "output_type": "execute_result"
    }
   ],
   "source": [
    "[print(k, v['text'], v['keys'], sep='\\n\\n', end='\\n'*8) for k, v in docs.items()]"
   ]
  },
  {
   "cell_type": "code",
   "execution_count": 5,
   "metadata": {},
   "outputs": [],
   "source": [
    "docs['art_and_culture-20904497.txt']['my_keys'] = ['Emily Deschanel', 'Hornsby', 'expecting child', 'pregnant', 'Bones', 'Zoeey Deschanel']"
   ]
  },
  {
   "cell_type": "code",
   "execution_count": 6,
   "metadata": {},
   "outputs": [],
   "source": [
    "docs['art_and_culture-20906308.txt']['my_keys'] = ['Moretz', 'Collins', 'Dark Shadows', 'Carolyn', 'Barnabas Collins', 'Burton', 'Hugo Cabret', 'movie']"
   ]
  },
  {
   "cell_type": "code",
   "execution_count": 7,
   "metadata": {},
   "outputs": [],
   "source": [
    "docs['art_and_culture-20906350.txt']['my_keys'] = ['Cannes', 'film', 'UK', 'Depp', 'Rum Diary', 'The Tree of Life']"
   ]
  },
  {
   "cell_type": "code",
   "execution_count": 8,
   "metadata": {},
   "outputs": [],
   "source": [
    "docs['art_and_culture-20906382.txt']['my_keys'] = ['Kidder', 'Lois Lane', 'Superman', 'movie', 'Amy Adams', 'actress']"
   ]
  },
  {
   "cell_type": "code",
   "execution_count": 9,
   "metadata": {},
   "outputs": [],
   "source": [
    "docs['art_and_culture-20893614.txt']['my_keys'] = ['Michael Buble', 'TV actress', 'Grammy', 'wedding', 'Buenos Aires', 'Lopilato', 'fans']"
   ]
  },
  {
   "cell_type": "code",
   "execution_count": 10,
   "metadata": {},
   "outputs": [],
   "source": [
    "docs['art_and_culture-20900470.txt']['my_keys'] = ['film producer', 'Swedish', 'Stieg Larsson', 'film', 'Craig']"
   ]
  },
  {
   "cell_type": "code",
   "execution_count": 11,
   "metadata": {},
   "outputs": [
    {
     "data": {
      "text/html": [
       "<div>\n",
       "<style scoped>\n",
       "    .dataframe tbody tr th:only-of-type {\n",
       "        vertical-align: middle;\n",
       "    }\n",
       "\n",
       "    .dataframe tbody tr th {\n",
       "        vertical-align: top;\n",
       "    }\n",
       "\n",
       "    .dataframe thead th {\n",
       "        text-align: right;\n",
       "    }\n",
       "</style>\n",
       "<table border=\"1\" class=\"dataframe\">\n",
       "  <thead>\n",
       "    <tr style=\"text-align: right;\">\n",
       "      <th></th>\n",
       "      <th>filename</th>\n",
       "      <th>text</th>\n",
       "      <th>keywords</th>\n",
       "      <th>my_keys</th>\n",
       "    </tr>\n",
       "  </thead>\n",
       "  <tbody>\n",
       "    <tr>\n",
       "      <th>0</th>\n",
       "      <td>art_and_culture-20904497.txt</td>\n",
       "      <td>&amp;#039;Bones&amp;#039; Star Emily Deschanel pregnan...</td>\n",
       "      <td>[expecting, trimester, affect, work around, kn...</td>\n",
       "      <td>[Emily Deschanel, Hornsby, expecting child, pr...</td>\n",
       "    </tr>\n",
       "    <tr>\n",
       "      <th>1</th>\n",
       "      <td>art_and_culture-20906308.txt</td>\n",
       "      <td>&amp;#039;Dark Shadows&amp;#039; update: Chloe Moretz ...</td>\n",
       "      <td>[would play Carolyn, Chloe Moretz, second outi...</td>\n",
       "      <td>[Moretz, Collins, Dark Shadows, Carolyn, Barna...</td>\n",
       "    </tr>\n",
       "    <tr>\n",
       "      <th>2</th>\n",
       "      <td>art_and_culture-20906350.txt</td>\n",
       "      <td>The Tree of Life to premiere in UK\\nAn insider...</td>\n",
       "      <td>[distribution company Icon, talents, draft, fi...</td>\n",
       "      <td>[Cannes, film, UK, Depp, Rum Diary, The Tree o...</td>\n",
       "    </tr>\n",
       "    <tr>\n",
       "      <th>3</th>\n",
       "      <td>art_and_culture-20906382.txt</td>\n",
       "      <td>Former Lois Lane Kidder Praises Adams Casting\\...</td>\n",
       "      <td>[Amy Adams, comic, Snyder's upcoming, role, we...</td>\n",
       "      <td>[Kidder, Lois Lane, Superman, movie, Amy Adams...</td>\n",
       "    </tr>\n",
       "    <tr>\n",
       "      <th>4</th>\n",
       "      <td>art_and_culture-20893614.txt</td>\n",
       "      <td>Singer Michael Buble weds TV star Luisana Lopi...</td>\n",
       "      <td>[Lopilato made, Canadian pop, Twitter, vocal, ...</td>\n",
       "      <td>[Michael Buble, TV actress, Grammy, wedding, B...</td>\n",
       "    </tr>\n",
       "  </tbody>\n",
       "</table>\n",
       "</div>"
      ],
      "text/plain": [
       "                       filename  \\\n",
       "0  art_and_culture-20904497.txt   \n",
       "1  art_and_culture-20906308.txt   \n",
       "2  art_and_culture-20906350.txt   \n",
       "3  art_and_culture-20906382.txt   \n",
       "4  art_and_culture-20893614.txt   \n",
       "\n",
       "                                                text  \\\n",
       "0  &#039;Bones&#039; Star Emily Deschanel pregnan...   \n",
       "1  &#039;Dark Shadows&#039; update: Chloe Moretz ...   \n",
       "2  The Tree of Life to premiere in UK\\nAn insider...   \n",
       "3  Former Lois Lane Kidder Praises Adams Casting\\...   \n",
       "4  Singer Michael Buble weds TV star Luisana Lopi...   \n",
       "\n",
       "                                            keywords  \\\n",
       "0  [expecting, trimester, affect, work around, kn...   \n",
       "1  [would play Carolyn, Chloe Moretz, second outi...   \n",
       "2  [distribution company Icon, talents, draft, fi...   \n",
       "3  [Amy Adams, comic, Snyder's upcoming, role, we...   \n",
       "4  [Lopilato made, Canadian pop, Twitter, vocal, ...   \n",
       "\n",
       "                                             my_keys  \n",
       "0  [Emily Deschanel, Hornsby, expecting child, pr...  \n",
       "1  [Moretz, Collins, Dark Shadows, Carolyn, Barna...  \n",
       "2  [Cannes, film, UK, Depp, Rum Diary, The Tree o...  \n",
       "3  [Kidder, Lois Lane, Superman, movie, Amy Adams...  \n",
       "4  [Michael Buble, TV actress, Grammy, wedding, B...  "
      ]
     },
     "execution_count": 11,
     "metadata": {},
     "output_type": "execute_result"
    }
   ],
   "source": [
    "df = pd.DataFrame(docs.keys(), columns=[\"filename\"])\n",
    "buf = []\n",
    "buf_keywords = []\n",
    "my_keys = []\n",
    "\n",
    "for i in df.filename.values:\n",
    "    buf.append(docs[i]['text'])\n",
    "    buf_keywords.append(list(set(docs[i]['keys'] + docs[i]['my_keys'])))\n",
    "    my_keys.append(docs[i]['my_keys'])\n",
    "    \n",
    "df['text'] = buf\n",
    "df['keywords'] = buf_keywords\n",
    "df['my_keys'] = my_keys\n",
    "df.head()"
   ]
  },
  {
   "cell_type": "markdown",
   "metadata": {},
   "source": [
    "Пересечение моей разметки и разметки датасета содержит не так много общих слов для каждого текста, но они наиболее сильно описывают тему соответствующего документа."
   ]
  },
  {
   "cell_type": "code",
   "execution_count": 12,
   "metadata": {},
   "outputs": [
    {
     "name": "stdout",
     "output_type": "stream",
     "text": [
      "Intersection:  {'pregnant', 'Bones'}\n",
      "Intersection:  {'Hugo Cabret', 'Carolyn'}\n",
      "Intersection:  set()\n",
      "Intersection:  {'Superman', 'actress'}\n",
      "Intersection:  {'Grammy'}\n",
      "Intersection:  {'film producer', 'Craig'}\n"
     ]
    }
   ],
   "source": [
    "for i in df.filename.values:\n",
    "    print(\"Intersection: \", set(docs[i]['my_keys']).intersection(set(docs[i]['keys'])))"
   ]
  },
  {
   "cell_type": "markdown",
   "metadata": {},
   "source": [
    "## (2 балла) Применить к этому корпусу 3 метода извлечения ключевых слов на выбор (RAKE, TextRank, tf*idf, OKAPI BM25, ...)"
   ]
  },
  {
   "cell_type": "markdown",
   "metadata": {},
   "source": [
    "### Rake"
   ]
  },
  {
   "cell_type": "code",
   "execution_count": 13,
   "metadata": {},
   "outputs": [],
   "source": [
    "# !pip install python-rake"
   ]
  },
  {
   "cell_type": "code",
   "execution_count": 14,
   "metadata": {},
   "outputs": [],
   "source": [
    "# импорты\n",
    "import RAKE\n",
    "import nltk\n",
    "#nltk.download('stopwords')\n",
    "from nltk.corpus import stopwords\n",
    "\n",
    "stop = stopwords.words('english')\n",
    "rake = RAKE.Rake(stop)"
   ]
  },
  {
   "cell_type": "code",
   "execution_count": 15,
   "metadata": {},
   "outputs": [
    {
     "data": {
      "text/html": [
       "<div>\n",
       "<style scoped>\n",
       "    .dataframe tbody tr th:only-of-type {\n",
       "        vertical-align: middle;\n",
       "    }\n",
       "\n",
       "    .dataframe tbody tr th {\n",
       "        vertical-align: top;\n",
       "    }\n",
       "\n",
       "    .dataframe thead th {\n",
       "        text-align: right;\n",
       "    }\n",
       "</style>\n",
       "<table border=\"1\" class=\"dataframe\">\n",
       "  <thead>\n",
       "    <tr style=\"text-align: right;\">\n",
       "      <th></th>\n",
       "      <th>filename</th>\n",
       "      <th>text</th>\n",
       "      <th>keywords</th>\n",
       "      <th>my_keys</th>\n",
       "      <th>RAKE_keywords</th>\n",
       "    </tr>\n",
       "  </thead>\n",
       "  <tbody>\n",
       "    <tr>\n",
       "      <th>0</th>\n",
       "      <td>art_and_culture-20904497.txt</td>\n",
       "      <td>&amp;#039;Bones&amp;#039; Star Emily Deschanel pregnan...</td>\n",
       "      <td>[expecting, trimester, affect, work around, kn...</td>\n",
       "      <td>[Emily Deschanel, Hornsby, expecting child, pr...</td>\n",
       "      <td>[emily, bones, pregnancy]</td>\n",
       "    </tr>\n",
       "    <tr>\n",
       "      <th>1</th>\n",
       "      <td>art_and_culture-20906308.txt</td>\n",
       "      <td>&amp;#039;Dark Shadows&amp;#039; update: Chloe Moretz ...</td>\n",
       "      <td>[would play Carolyn, Chloe Moretz, second outi...</td>\n",
       "      <td>[Moretz, Collins, Dark Shadows, Carolyn, Barna...</td>\n",
       "      <td>[hugo cabret, dark shadows, chloe moretz, more...</td>\n",
       "    </tr>\n",
       "    <tr>\n",
       "      <th>2</th>\n",
       "      <td>art_and_culture-20906350.txt</td>\n",
       "      <td>The Tree of Life to premiere in UK\\nAn insider...</td>\n",
       "      <td>[distribution company Icon, talents, draft, fi...</td>\n",
       "      <td>[Cannes, film, UK, Depp, Rum Diary, The Tree o...</td>\n",
       "      <td>[film, uk, tree, life, thompson, certainly]</td>\n",
       "    </tr>\n",
       "    <tr>\n",
       "      <th>3</th>\n",
       "      <td>art_and_culture-20906382.txt</td>\n",
       "      <td>Former Lois Lane Kidder Praises Adams Casting\\...</td>\n",
       "      <td>[Amy Adams, comic, Snyder's upcoming, role, we...</td>\n",
       "      <td>[Kidder, Lois Lane, Superman, movie, Amy Adams...</td>\n",
       "      <td>[casting, part]</td>\n",
       "    </tr>\n",
       "    <tr>\n",
       "      <th>4</th>\n",
       "      <td>art_and_culture-20893614.txt</td>\n",
       "      <td>Singer Michael Buble weds TV star Luisana Lopi...</td>\n",
       "      <td>[Lopilato made, Canadian pop, Twitter, vocal, ...</td>\n",
       "      <td>[Michael Buble, TV actress, Grammy, wedding, B...</td>\n",
       "      <td>[buenos aires, lopilato, argentina]</td>\n",
       "    </tr>\n",
       "  </tbody>\n",
       "</table>\n",
       "</div>"
      ],
      "text/plain": [
       "                       filename  \\\n",
       "0  art_and_culture-20904497.txt   \n",
       "1  art_and_culture-20906308.txt   \n",
       "2  art_and_culture-20906350.txt   \n",
       "3  art_and_culture-20906382.txt   \n",
       "4  art_and_culture-20893614.txt   \n",
       "\n",
       "                                                text  \\\n",
       "0  &#039;Bones&#039; Star Emily Deschanel pregnan...   \n",
       "1  &#039;Dark Shadows&#039; update: Chloe Moretz ...   \n",
       "2  The Tree of Life to premiere in UK\\nAn insider...   \n",
       "3  Former Lois Lane Kidder Praises Adams Casting\\...   \n",
       "4  Singer Michael Buble weds TV star Luisana Lopi...   \n",
       "\n",
       "                                            keywords  \\\n",
       "0  [expecting, trimester, affect, work around, kn...   \n",
       "1  [would play Carolyn, Chloe Moretz, second outi...   \n",
       "2  [distribution company Icon, talents, draft, fi...   \n",
       "3  [Amy Adams, comic, Snyder's upcoming, role, we...   \n",
       "4  [Lopilato made, Canadian pop, Twitter, vocal, ...   \n",
       "\n",
       "                                             my_keys  \\\n",
       "0  [Emily Deschanel, Hornsby, expecting child, pr...   \n",
       "1  [Moretz, Collins, Dark Shadows, Carolyn, Barna...   \n",
       "2  [Cannes, film, UK, Depp, Rum Diary, The Tree o...   \n",
       "3  [Kidder, Lois Lane, Superman, movie, Amy Adams...   \n",
       "4  [Michael Buble, TV actress, Grammy, wedding, B...   \n",
       "\n",
       "                                       RAKE_keywords  \n",
       "0                          [emily, bones, pregnancy]  \n",
       "1  [hugo cabret, dark shadows, chloe moretz, more...  \n",
       "2        [film, uk, tree, life, thompson, certainly]  \n",
       "3                                    [casting, part]  \n",
       "4                [buenos aires, lopilato, argentina]  "
      ]
     },
     "execution_count": 15,
     "metadata": {},
     "output_type": "execute_result"
    }
   ],
   "source": [
    "buf = []\n",
    "\n",
    "for k, v in docs.items():\n",
    "    rake_kw_list = rake.run(v['text'], maxWords=3, minFrequency=2)\n",
    "    buf.append([i[0] for i in rake_kw_list])\n",
    "#     print(\"RAKE result: \\n\", [i[0] for i in rake_kw_list])\n",
    "#     print(\"Dataset labels: \\n\", v['keys'])\n",
    "#     print()\n",
    "\n",
    "df['RAKE_keywords'] = buf\n",
    "df.head()"
   ]
  },
  {
   "cell_type": "markdown",
   "metadata": {},
   "source": [
    "### TextRank"
   ]
  },
  {
   "cell_type": "code",
   "execution_count": 16,
   "metadata": {},
   "outputs": [
    {
     "data": {
      "text/html": [
       "<div>\n",
       "<style scoped>\n",
       "    .dataframe tbody tr th:only-of-type {\n",
       "        vertical-align: middle;\n",
       "    }\n",
       "\n",
       "    .dataframe tbody tr th {\n",
       "        vertical-align: top;\n",
       "    }\n",
       "\n",
       "    .dataframe thead th {\n",
       "        text-align: right;\n",
       "    }\n",
       "</style>\n",
       "<table border=\"1\" class=\"dataframe\">\n",
       "  <thead>\n",
       "    <tr style=\"text-align: right;\">\n",
       "      <th></th>\n",
       "      <th>filename</th>\n",
       "      <th>text</th>\n",
       "      <th>keywords</th>\n",
       "      <th>my_keys</th>\n",
       "      <th>RAKE_keywords</th>\n",
       "      <th>TextRank_keywords</th>\n",
       "    </tr>\n",
       "  </thead>\n",
       "  <tbody>\n",
       "    <tr>\n",
       "      <th>0</th>\n",
       "      <td>art_and_culture-20904497.txt</td>\n",
       "      <td>&amp;#039;Bones&amp;#039; Star Emily Deschanel pregnan...</td>\n",
       "      <td>[expecting, trimester, affect, work around, kn...</td>\n",
       "      <td>[Emily Deschanel, Hornsby, expecting child, pr...</td>\n",
       "      <td>[emily, bones, pregnancy]</td>\n",
       "      <td>[deschanel, emily, bones, expecting, expectant...</td>\n",
       "    </tr>\n",
       "    <tr>\n",
       "      <th>1</th>\n",
       "      <td>art_and_culture-20906308.txt</td>\n",
       "      <td>&amp;#039;Dark Shadows&amp;#039; update: Chloe Moretz ...</td>\n",
       "      <td>[would play Carolyn, Chloe Moretz, second outi...</td>\n",
       "      <td>[Moretz, Collins, Dark Shadows, Carolyn, Barna...</td>\n",
       "      <td>[hugo cabret, dark shadows, chloe moretz, more...</td>\n",
       "      <td>[collins, cast, casting, shadows, cabret, more...</td>\n",
       "    </tr>\n",
       "    <tr>\n",
       "      <th>2</th>\n",
       "      <td>art_and_culture-20906350.txt</td>\n",
       "      <td>The Tree of Life to premiere in UK\\nAn insider...</td>\n",
       "      <td>[distribution company Icon, talents, draft, fi...</td>\n",
       "      <td>[Cannes, film, UK, Depp, Rum Diary, The Tree o...</td>\n",
       "      <td>[film, uk, tree, life, thompson, certainly]</td>\n",
       "      <td>[depp, year, years, starring, star, novel, rel...</td>\n",
       "    </tr>\n",
       "    <tr>\n",
       "      <th>3</th>\n",
       "      <td>art_and_culture-20906382.txt</td>\n",
       "      <td>Former Lois Lane Kidder Praises Adams Casting\\...</td>\n",
       "      <td>[Amy Adams, comic, Snyder's upcoming, role, we...</td>\n",
       "      <td>[Kidder, Lois Lane, Superman, movie, Amy Adams...</td>\n",
       "      <td>[casting, part]</td>\n",
       "      <td>[superman, lane, kidder, lois, zack, screen, a...</td>\n",
       "    </tr>\n",
       "    <tr>\n",
       "      <th>4</th>\n",
       "      <td>art_and_culture-20893614.txt</td>\n",
       "      <td>Singer Michael Buble weds TV star Luisana Lopi...</td>\n",
       "      <td>[Lopilato made, Canadian pop, Twitter, vocal, ...</td>\n",
       "      <td>[Michael Buble, TV actress, Grammy, wedding, B...</td>\n",
       "      <td>[buenos aires, lopilato, argentina]</td>\n",
       "      <td>[lopilato, buble, argentine, buenos, concert, ...</td>\n",
       "    </tr>\n",
       "  </tbody>\n",
       "</table>\n",
       "</div>"
      ],
      "text/plain": [
       "                       filename  \\\n",
       "0  art_and_culture-20904497.txt   \n",
       "1  art_and_culture-20906308.txt   \n",
       "2  art_and_culture-20906350.txt   \n",
       "3  art_and_culture-20906382.txt   \n",
       "4  art_and_culture-20893614.txt   \n",
       "\n",
       "                                                text  \\\n",
       "0  &#039;Bones&#039; Star Emily Deschanel pregnan...   \n",
       "1  &#039;Dark Shadows&#039; update: Chloe Moretz ...   \n",
       "2  The Tree of Life to premiere in UK\\nAn insider...   \n",
       "3  Former Lois Lane Kidder Praises Adams Casting\\...   \n",
       "4  Singer Michael Buble weds TV star Luisana Lopi...   \n",
       "\n",
       "                                            keywords  \\\n",
       "0  [expecting, trimester, affect, work around, kn...   \n",
       "1  [would play Carolyn, Chloe Moretz, second outi...   \n",
       "2  [distribution company Icon, talents, draft, fi...   \n",
       "3  [Amy Adams, comic, Snyder's upcoming, role, we...   \n",
       "4  [Lopilato made, Canadian pop, Twitter, vocal, ...   \n",
       "\n",
       "                                             my_keys  \\\n",
       "0  [Emily Deschanel, Hornsby, expecting child, pr...   \n",
       "1  [Moretz, Collins, Dark Shadows, Carolyn, Barna...   \n",
       "2  [Cannes, film, UK, Depp, Rum Diary, The Tree o...   \n",
       "3  [Kidder, Lois Lane, Superman, movie, Amy Adams...   \n",
       "4  [Michael Buble, TV actress, Grammy, wedding, B...   \n",
       "\n",
       "                                       RAKE_keywords  \\\n",
       "0                          [emily, bones, pregnancy]   \n",
       "1  [hugo cabret, dark shadows, chloe moretz, more...   \n",
       "2        [film, uk, tree, life, thompson, certainly]   \n",
       "3                                    [casting, part]   \n",
       "4                [buenos aires, lopilato, argentina]   \n",
       "\n",
       "                                   TextRank_keywords  \n",
       "0  [deschanel, emily, bones, expecting, expectant...  \n",
       "1  [collins, cast, casting, shadows, cabret, more...  \n",
       "2  [depp, year, years, starring, star, novel, rel...  \n",
       "3  [superman, lane, kidder, lois, zack, screen, a...  \n",
       "4  [lopilato, buble, argentine, buenos, concert, ...  "
      ]
     },
     "execution_count": 16,
     "metadata": {},
     "output_type": "execute_result"
    }
   ],
   "source": [
    "from gensim.summarization import keywords as kw\n",
    "\n",
    "buf = []\n",
    "\n",
    "for k, v in docs.items():\n",
    "    rake_kw_list = kw(v['text'], pos_filter=[], scores=True)\n",
    "    buf.append([i[0] for i in rake_kw_list])\n",
    "#     print(\"RAKE result: \\n\", [i[0] for i in rake_kw_list])\n",
    "#     print(\"Dataset labels: \\n\", v['keys'])\n",
    "#     print()\n",
    "    \n",
    "df['TextRank_keywords'] = buf\n",
    "df.head()"
   ]
  },
  {
   "cell_type": "markdown",
   "metadata": {},
   "source": [
    "### Summa"
   ]
  },
  {
   "cell_type": "code",
   "execution_count": 17,
   "metadata": {},
   "outputs": [],
   "source": [
    "# !pip install summa"
   ]
  },
  {
   "cell_type": "code",
   "execution_count": 18,
   "metadata": {},
   "outputs": [],
   "source": [
    "from summa import keywords"
   ]
  },
  {
   "cell_type": "code",
   "execution_count": 19,
   "metadata": {},
   "outputs": [
    {
     "data": {
      "text/html": [
       "<div>\n",
       "<style scoped>\n",
       "    .dataframe tbody tr th:only-of-type {\n",
       "        vertical-align: middle;\n",
       "    }\n",
       "\n",
       "    .dataframe tbody tr th {\n",
       "        vertical-align: top;\n",
       "    }\n",
       "\n",
       "    .dataframe thead th {\n",
       "        text-align: right;\n",
       "    }\n",
       "</style>\n",
       "<table border=\"1\" class=\"dataframe\">\n",
       "  <thead>\n",
       "    <tr style=\"text-align: right;\">\n",
       "      <th></th>\n",
       "      <th>filename</th>\n",
       "      <th>text</th>\n",
       "      <th>keywords</th>\n",
       "      <th>my_keys</th>\n",
       "      <th>RAKE_keywords</th>\n",
       "      <th>TextRank_keywords</th>\n",
       "      <th>summa_keywords</th>\n",
       "    </tr>\n",
       "  </thead>\n",
       "  <tbody>\n",
       "    <tr>\n",
       "      <th>0</th>\n",
       "      <td>art_and_culture-20904497.txt</td>\n",
       "      <td>&amp;#039;Bones&amp;#039; Star Emily Deschanel pregnan...</td>\n",
       "      <td>[expecting, trimester, affect, work around, kn...</td>\n",
       "      <td>[Emily Deschanel, Hornsby, expecting child, pr...</td>\n",
       "      <td>[emily, bones, pregnancy]</td>\n",
       "      <td>[deschanel, emily, bones, expecting, expectant...</td>\n",
       "      <td>[emily, deschanel, bones, expecting, expectant...</td>\n",
       "    </tr>\n",
       "    <tr>\n",
       "      <th>1</th>\n",
       "      <td>art_and_culture-20906308.txt</td>\n",
       "      <td>&amp;#039;Dark Shadows&amp;#039; update: Chloe Moretz ...</td>\n",
       "      <td>[would play Carolyn, Chloe Moretz, second outi...</td>\n",
       "      <td>[Moretz, Collins, Dark Shadows, Carolyn, Barna...</td>\n",
       "      <td>[hugo cabret, dark shadows, chloe moretz, more...</td>\n",
       "      <td>[collins, cast, casting, shadows, cabret, more...</td>\n",
       "      <td>[collins, cast, casting, shadows, cabret, more...</td>\n",
       "    </tr>\n",
       "    <tr>\n",
       "      <th>2</th>\n",
       "      <td>art_and_culture-20906350.txt</td>\n",
       "      <td>The Tree of Life to premiere in UK\\nAn insider...</td>\n",
       "      <td>[distribution company Icon, talents, draft, fi...</td>\n",
       "      <td>[Cannes, film, UK, Depp, Rum Diary, The Tree o...</td>\n",
       "      <td>[film, uk, tree, life, thompson, certainly]</td>\n",
       "      <td>[depp, year, years, starring, star, novel, rel...</td>\n",
       "      <td>[depp, year, years, starring, star, novel, rel...</td>\n",
       "    </tr>\n",
       "    <tr>\n",
       "      <th>3</th>\n",
       "      <td>art_and_culture-20906382.txt</td>\n",
       "      <td>Former Lois Lane Kidder Praises Adams Casting\\...</td>\n",
       "      <td>[Amy Adams, comic, Snyder's upcoming, role, we...</td>\n",
       "      <td>[Kidder, Lois Lane, Superman, movie, Amy Adams...</td>\n",
       "      <td>[casting, part]</td>\n",
       "      <td>[superman, lane, kidder, lois, zack, screen, a...</td>\n",
       "      <td>[superman, lane, kidder, lois, zack, screen, a...</td>\n",
       "    </tr>\n",
       "    <tr>\n",
       "      <th>4</th>\n",
       "      <td>art_and_culture-20893614.txt</td>\n",
       "      <td>Singer Michael Buble weds TV star Luisana Lopi...</td>\n",
       "      <td>[Lopilato made, Canadian pop, Twitter, vocal, ...</td>\n",
       "      <td>[Michael Buble, TV actress, Grammy, wedding, B...</td>\n",
       "      <td>[buenos aires, lopilato, argentina]</td>\n",
       "      <td>[lopilato, buble, argentine, buenos, concert, ...</td>\n",
       "      <td>[lopilato, argentine, buble weds, concert, bue...</td>\n",
       "    </tr>\n",
       "  </tbody>\n",
       "</table>\n",
       "</div>"
      ],
      "text/plain": [
       "                       filename  \\\n",
       "0  art_and_culture-20904497.txt   \n",
       "1  art_and_culture-20906308.txt   \n",
       "2  art_and_culture-20906350.txt   \n",
       "3  art_and_culture-20906382.txt   \n",
       "4  art_and_culture-20893614.txt   \n",
       "\n",
       "                                                text  \\\n",
       "0  &#039;Bones&#039; Star Emily Deschanel pregnan...   \n",
       "1  &#039;Dark Shadows&#039; update: Chloe Moretz ...   \n",
       "2  The Tree of Life to premiere in UK\\nAn insider...   \n",
       "3  Former Lois Lane Kidder Praises Adams Casting\\...   \n",
       "4  Singer Michael Buble weds TV star Luisana Lopi...   \n",
       "\n",
       "                                            keywords  \\\n",
       "0  [expecting, trimester, affect, work around, kn...   \n",
       "1  [would play Carolyn, Chloe Moretz, second outi...   \n",
       "2  [distribution company Icon, talents, draft, fi...   \n",
       "3  [Amy Adams, comic, Snyder's upcoming, role, we...   \n",
       "4  [Lopilato made, Canadian pop, Twitter, vocal, ...   \n",
       "\n",
       "                                             my_keys  \\\n",
       "0  [Emily Deschanel, Hornsby, expecting child, pr...   \n",
       "1  [Moretz, Collins, Dark Shadows, Carolyn, Barna...   \n",
       "2  [Cannes, film, UK, Depp, Rum Diary, The Tree o...   \n",
       "3  [Kidder, Lois Lane, Superman, movie, Amy Adams...   \n",
       "4  [Michael Buble, TV actress, Grammy, wedding, B...   \n",
       "\n",
       "                                       RAKE_keywords  \\\n",
       "0                          [emily, bones, pregnancy]   \n",
       "1  [hugo cabret, dark shadows, chloe moretz, more...   \n",
       "2        [film, uk, tree, life, thompson, certainly]   \n",
       "3                                    [casting, part]   \n",
       "4                [buenos aires, lopilato, argentina]   \n",
       "\n",
       "                                   TextRank_keywords  \\\n",
       "0  [deschanel, emily, bones, expecting, expectant...   \n",
       "1  [collins, cast, casting, shadows, cabret, more...   \n",
       "2  [depp, year, years, starring, star, novel, rel...   \n",
       "3  [superman, lane, kidder, lois, zack, screen, a...   \n",
       "4  [lopilato, buble, argentine, buenos, concert, ...   \n",
       "\n",
       "                                      summa_keywords  \n",
       "0  [emily, deschanel, bones, expecting, expectant...  \n",
       "1  [collins, cast, casting, shadows, cabret, more...  \n",
       "2  [depp, year, years, starring, star, novel, rel...  \n",
       "3  [superman, lane, kidder, lois, zack, screen, a...  \n",
       "4  [lopilato, argentine, buble weds, concert, bue...  "
      ]
     },
     "execution_count": 19,
     "metadata": {},
     "output_type": "execute_result"
    }
   ],
   "source": [
    "from gensim.summarization import keywords as kw\n",
    "\n",
    "buf = []\n",
    "\n",
    "for k, v in docs.items():\n",
    "    rake_kw_list = keywords.keywords(v['text'], language='english', additional_stopwords=stop, scores=True)\n",
    "    buf.append([i[0] for i in rake_kw_list])\n",
    "#     print(\"RAKE result: \\n\", [i[0] for i in rake_kw_list])\n",
    "#     print(\"Dataset labels: \\n\", v['keys'])\n",
    "#     print()\n",
    "    \n",
    "df['summa_keywords'] = buf\n",
    "df.head()"
   ]
  },
  {
   "cell_type": "markdown",
   "metadata": {},
   "source": [
    "## (2 балла) Оценить точность, полноту, F-меру выбранных методов относительно эталона: с учётом морфосинтаксических шаблонов и без них."
   ]
  },
  {
   "cell_type": "markdown",
   "metadata": {},
   "source": [
    "Посчитала значения трёх метрик: precision, recall и f-меру.\n",
    "\n",
    "True positive - если выделенное методом слово присутствует в эталонной разметке\n",
    "\n",
    "False positive - если выделенное методом слово не содержится в эталонной разметке\n",
    "\n",
    "False negative - если слово, содержащееся в эталонной разметке не выделилось методом"
   ]
  },
  {
   "cell_type": "code",
   "execution_count": 20,
   "metadata": {},
   "outputs": [],
   "source": [
    "def get_tp_fn_fp(true_label, pred_label):\n",
    "    true_label = [i.lower() for i in true_label]\n",
    "    pred_label = [i.lower() for i in pred_label]\n",
    "    tp = 0\n",
    "    fn = 0\n",
    "    fp = 0\n",
    "    for pred in pred_label:\n",
    "        if pred in true_label:\n",
    "            tp += 1\n",
    "        else:\n",
    "            fp += 1\n",
    "            \n",
    "    for tr in pred_label:\n",
    "        if tr not in true_label:\n",
    "            fn\n",
    "    return tp, fn, fp  "
   ]
  },
  {
   "cell_type": "code",
   "execution_count": 21,
   "metadata": {},
   "outputs": [],
   "source": [
    "def get_precision_recall_f(tp, fn, fp):\n",
    "    if tp + fp == 0:\n",
    "        precision = 0\n",
    "    else:\n",
    "        precision = tp / (tp + fp)\n",
    "        \n",
    "    if tp + fn == 0:\n",
    "        recall = 0\n",
    "    else:\n",
    "        recall = tp / (tp + fn)\n",
    "    \n",
    "    if precision + recall == 0:\n",
    "        f_measure = 0\n",
    "    else:\n",
    "        f_measure = 2 * ((precision * recall)/(precision + recall))\n",
    "\n",
    "    return precision, recall, f_measure"
   ]
  },
  {
   "cell_type": "code",
   "execution_count": 22,
   "metadata": {},
   "outputs": [],
   "source": [
    "def get_metrics_by_column(colname):\n",
    "    precision = []\n",
    "    recall = []\n",
    "    f_measure = []\n",
    "\n",
    "    for true, pred in zip(df.keywords.values, df[colname].values):\n",
    "        tp, fn, fp = get_tp_fn_fp(true, pred)\n",
    "        p, r, f = get_precision_recall_f(tp, fn, fp)\n",
    "        precision.append(p)\n",
    "        recall.append(r)\n",
    "        f_measure.append(f)\n",
    "    print(f'Average precision: {np.mean(precision)}')\n",
    "    print(f'Average recall: {np.mean(recall)}')\n",
    "    print(f'Average f-measure: {np.mean(f_measure)}')\n",
    "    "
   ]
  },
  {
   "cell_type": "code",
   "execution_count": 23,
   "metadata": {},
   "outputs": [
    {
     "name": "stdout",
     "output_type": "stream",
     "text": [
      "Average precision: 0.7037037037037037\n",
      "Average recall: 1.0\n",
      "Average f-measure: 0.8150072150072151\n"
     ]
    }
   ],
   "source": [
    "get_metrics_by_column(\"RAKE_keywords\")"
   ]
  },
  {
   "cell_type": "code",
   "execution_count": 24,
   "metadata": {},
   "outputs": [
    {
     "name": "stdout",
     "output_type": "stream",
     "text": [
      "Average precision: 0.4200757575757576\n",
      "Average recall: 1.0\n",
      "Average f-measure: 0.5830512198798644\n"
     ]
    }
   ],
   "source": [
    "get_metrics_by_column(\"TextRank_keywords\")"
   ]
  },
  {
   "cell_type": "code",
   "execution_count": 25,
   "metadata": {},
   "outputs": [
    {
     "name": "stdout",
     "output_type": "stream",
     "text": [
      "Average precision: 0.4140793903951799\n",
      "Average recall: 1.0\n",
      "Average f-measure: 0.5771518251569402\n"
     ]
    }
   ],
   "source": [
    "get_metrics_by_column(\"summa_keywords\")"
   ]
  },
  {
   "cell_type": "markdown",
   "metadata": {},
   "source": [
    "## (2 балла) Составить морфологические/синтаксические шаблоны для ключевых слов и фраз, выделить соответствующие им подстроки из корпуса (например, именные группы Adj+Noun). Применить эти фильтры к спискам ключевых слов."
   ]
  },
  {
   "cell_type": "code",
   "execution_count": 26,
   "metadata": {},
   "outputs": [],
   "source": [
    "import spacy\n",
    "\n",
    "from spacy.matcher import Matcher"
   ]
  },
  {
   "cell_type": "code",
   "execution_count": 27,
   "metadata": {},
   "outputs": [],
   "source": [
    "nlp = spacy.load('en_core_web_sm')\n"
   ]
  },
  {
   "cell_type": "code",
   "execution_count": 28,
   "metadata": {},
   "outputs": [],
   "source": [
    "patterns = [\n",
    "    [{'POS': 'VERB'}, {'POS': 'NOUN'}],\n",
    "    [{'POS': 'ADJ'}, {'POS': 'NOUN'}],\n",
    "    [{'POS': 'NOUN'}, {'POS': 'NOUN'}],\n",
    "    [{'POS': 'NOUN'}]\n",
    "    ]\n",
    "matcher = Matcher(nlp.vocab)\n",
    "matcher.add(\"verb-noun\", None, patterns[0])\n",
    "matcher.add(\"adj-noun\", None, patterns[1])\n",
    "matcher.add(\"noun-noun\", None, patterns[2])\n",
    "matcher.add(\"noun\", None, patterns[3])"
   ]
  },
  {
   "cell_type": "code",
   "execution_count": 29,
   "metadata": {},
   "outputs": [],
   "source": [
    "def filter_kw(keywords):\n",
    "    filtered_kws = []\n",
    "    for keyword in keywords:\n",
    "        keyword = nlp(keyword)\n",
    "        matches = matcher(keyword)\n",
    "        for match_id, start, end in matches:\n",
    "            string_id = nlp.vocab.strings[match_id]\n",
    "            span = keyword[start:end]\n",
    "            filtered_kws.append(span.text)\n",
    "    return filtered_kws"
   ]
  },
  {
   "cell_type": "markdown",
   "metadata": {},
   "source": [
    "#### Отфильтруем выделенные ключевые слова"
   ]
  },
  {
   "cell_type": "code",
   "execution_count": 30,
   "metadata": {},
   "outputs": [],
   "source": [
    "df[\"RAKE_keywords_cut\"] = df[\"RAKE_keywords\"].apply(filter_kw)"
   ]
  },
  {
   "cell_type": "code",
   "execution_count": 31,
   "metadata": {},
   "outputs": [],
   "source": [
    "df[\"TextRank_keywords_cut\"] = df[\"TextRank_keywords\"].apply(filter_kw)"
   ]
  },
  {
   "cell_type": "code",
   "execution_count": 32,
   "metadata": {},
   "outputs": [],
   "source": [
    "df[\"summa_keywords_cut\"] = df[\"summa_keywords\"].apply(filter_kw)"
   ]
  },
  {
   "cell_type": "code",
   "execution_count": 33,
   "metadata": {},
   "outputs": [
    {
     "data": {
      "text/html": [
       "<div>\n",
       "<style scoped>\n",
       "    .dataframe tbody tr th:only-of-type {\n",
       "        vertical-align: middle;\n",
       "    }\n",
       "\n",
       "    .dataframe tbody tr th {\n",
       "        vertical-align: top;\n",
       "    }\n",
       "\n",
       "    .dataframe thead th {\n",
       "        text-align: right;\n",
       "    }\n",
       "</style>\n",
       "<table border=\"1\" class=\"dataframe\">\n",
       "  <thead>\n",
       "    <tr style=\"text-align: right;\">\n",
       "      <th></th>\n",
       "      <th>filename</th>\n",
       "      <th>text</th>\n",
       "      <th>keywords</th>\n",
       "      <th>my_keys</th>\n",
       "      <th>RAKE_keywords</th>\n",
       "      <th>TextRank_keywords</th>\n",
       "      <th>summa_keywords</th>\n",
       "      <th>RAKE_keywords_cut</th>\n",
       "      <th>TextRank_keywords_cut</th>\n",
       "      <th>summa_keywords_cut</th>\n",
       "    </tr>\n",
       "  </thead>\n",
       "  <tbody>\n",
       "    <tr>\n",
       "      <th>0</th>\n",
       "      <td>art_and_culture-20904497.txt</td>\n",
       "      <td>&amp;#039;Bones&amp;#039; Star Emily Deschanel pregnan...</td>\n",
       "      <td>[expecting, trimester, affect, work around, kn...</td>\n",
       "      <td>[Emily Deschanel, Hornsby, expecting child, pr...</td>\n",
       "      <td>[emily, bones, pregnancy]</td>\n",
       "      <td>[deschanel, emily, bones, expecting, expectant...</td>\n",
       "      <td>[emily, deschanel, bones, expecting, expectant...</td>\n",
       "      <td>[bones, pregnancy]</td>\n",
       "      <td>[deschanel, bones, clothes]</td>\n",
       "      <td>[deschanel, bones, clothes, babies, baby]</td>\n",
       "    </tr>\n",
       "    <tr>\n",
       "      <th>1</th>\n",
       "      <td>art_and_culture-20906308.txt</td>\n",
       "      <td>&amp;#039;Dark Shadows&amp;#039; update: Chloe Moretz ...</td>\n",
       "      <td>[would play Carolyn, Chloe Moretz, second outi...</td>\n",
       "      <td>[Moretz, Collins, Dark Shadows, Carolyn, Barna...</td>\n",
       "      <td>[hugo cabret, dark shadows, chloe moretz, more...</td>\n",
       "      <td>[collins, cast, casting, shadows, cabret, more...</td>\n",
       "      <td>[collins, cast, casting, shadows, cabret, more...</td>\n",
       "      <td>[dark shadows, shadows, part, talks, movie]</td>\n",
       "      <td>[collins, shadows, play, soap, incarnations, s...</td>\n",
       "      <td>[collins, shadows, play, soap, incarnations, s...</td>\n",
       "    </tr>\n",
       "    <tr>\n",
       "      <th>2</th>\n",
       "      <td>art_and_culture-20906350.txt</td>\n",
       "      <td>The Tree of Life to premiere in UK\\nAn insider...</td>\n",
       "      <td>[distribution company Icon, talents, draft, fi...</td>\n",
       "      <td>[Cannes, film, UK, Depp, Rum Diary, The Tree o...</td>\n",
       "      <td>[film, uk, tree, life, thompson, certainly]</td>\n",
       "      <td>[depp, year, years, starring, star, novel, rel...</td>\n",
       "      <td>[depp, year, years, starring, star, novel, rel...</td>\n",
       "      <td>[film, life]</td>\n",
       "      <td>[year, years, novel, journalist, company, dist...</td>\n",
       "      <td>[year, years, novel, journalist, company, open...</td>\n",
       "    </tr>\n",
       "    <tr>\n",
       "      <th>3</th>\n",
       "      <td>art_and_culture-20906382.txt</td>\n",
       "      <td>Former Lois Lane Kidder Praises Adams Casting\\...</td>\n",
       "      <td>[Amy Adams, comic, Snyder's upcoming, role, we...</td>\n",
       "      <td>[Kidder, Lois Lane, Superman, movie, Amy Adams...</td>\n",
       "      <td>[casting, part]</td>\n",
       "      <td>[superman, lane, kidder, lois, zack, screen, a...</td>\n",
       "      <td>[superman, lane, kidder, lois, zack, screen, a...</td>\n",
       "      <td>[part]</td>\n",
       "      <td>[screen, actress]</td>\n",
       "      <td>[screen, actress]</td>\n",
       "    </tr>\n",
       "    <tr>\n",
       "      <th>4</th>\n",
       "      <td>art_and_culture-20893614.txt</td>\n",
       "      <td>Singer Michael Buble weds TV star Luisana Lopi...</td>\n",
       "      <td>[Lopilato made, Canadian pop, Twitter, vocal, ...</td>\n",
       "      <td>[Michael Buble, TV actress, Grammy, wedding, B...</td>\n",
       "      <td>[buenos aires, lopilato, argentina]</td>\n",
       "      <td>[lopilato, buble, argentine, buenos, concert, ...</td>\n",
       "      <td>[lopilato, argentine, buble weds, concert, bue...</td>\n",
       "      <td>[]</td>\n",
       "      <td>[buenos, woman, aires, actress, player]</td>\n",
       "      <td>[buble weds, weds, buenos, actress, wedding, w...</td>\n",
       "    </tr>\n",
       "  </tbody>\n",
       "</table>\n",
       "</div>"
      ],
      "text/plain": [
       "                       filename  \\\n",
       "0  art_and_culture-20904497.txt   \n",
       "1  art_and_culture-20906308.txt   \n",
       "2  art_and_culture-20906350.txt   \n",
       "3  art_and_culture-20906382.txt   \n",
       "4  art_and_culture-20893614.txt   \n",
       "\n",
       "                                                text  \\\n",
       "0  &#039;Bones&#039; Star Emily Deschanel pregnan...   \n",
       "1  &#039;Dark Shadows&#039; update: Chloe Moretz ...   \n",
       "2  The Tree of Life to premiere in UK\\nAn insider...   \n",
       "3  Former Lois Lane Kidder Praises Adams Casting\\...   \n",
       "4  Singer Michael Buble weds TV star Luisana Lopi...   \n",
       "\n",
       "                                            keywords  \\\n",
       "0  [expecting, trimester, affect, work around, kn...   \n",
       "1  [would play Carolyn, Chloe Moretz, second outi...   \n",
       "2  [distribution company Icon, talents, draft, fi...   \n",
       "3  [Amy Adams, comic, Snyder's upcoming, role, we...   \n",
       "4  [Lopilato made, Canadian pop, Twitter, vocal, ...   \n",
       "\n",
       "                                             my_keys  \\\n",
       "0  [Emily Deschanel, Hornsby, expecting child, pr...   \n",
       "1  [Moretz, Collins, Dark Shadows, Carolyn, Barna...   \n",
       "2  [Cannes, film, UK, Depp, Rum Diary, The Tree o...   \n",
       "3  [Kidder, Lois Lane, Superman, movie, Amy Adams...   \n",
       "4  [Michael Buble, TV actress, Grammy, wedding, B...   \n",
       "\n",
       "                                       RAKE_keywords  \\\n",
       "0                          [emily, bones, pregnancy]   \n",
       "1  [hugo cabret, dark shadows, chloe moretz, more...   \n",
       "2        [film, uk, tree, life, thompson, certainly]   \n",
       "3                                    [casting, part]   \n",
       "4                [buenos aires, lopilato, argentina]   \n",
       "\n",
       "                                   TextRank_keywords  \\\n",
       "0  [deschanel, emily, bones, expecting, expectant...   \n",
       "1  [collins, cast, casting, shadows, cabret, more...   \n",
       "2  [depp, year, years, starring, star, novel, rel...   \n",
       "3  [superman, lane, kidder, lois, zack, screen, a...   \n",
       "4  [lopilato, buble, argentine, buenos, concert, ...   \n",
       "\n",
       "                                      summa_keywords  \\\n",
       "0  [emily, deschanel, bones, expecting, expectant...   \n",
       "1  [collins, cast, casting, shadows, cabret, more...   \n",
       "2  [depp, year, years, starring, star, novel, rel...   \n",
       "3  [superman, lane, kidder, lois, zack, screen, a...   \n",
       "4  [lopilato, argentine, buble weds, concert, bue...   \n",
       "\n",
       "                             RAKE_keywords_cut  \\\n",
       "0                           [bones, pregnancy]   \n",
       "1  [dark shadows, shadows, part, talks, movie]   \n",
       "2                                 [film, life]   \n",
       "3                                       [part]   \n",
       "4                                           []   \n",
       "\n",
       "                               TextRank_keywords_cut  \\\n",
       "0                        [deschanel, bones, clothes]   \n",
       "1  [collins, shadows, play, soap, incarnations, s...   \n",
       "2  [year, years, novel, journalist, company, dist...   \n",
       "3                                  [screen, actress]   \n",
       "4            [buenos, woman, aires, actress, player]   \n",
       "\n",
       "                                  summa_keywords_cut  \n",
       "0          [deschanel, bones, clothes, babies, baby]  \n",
       "1  [collins, shadows, play, soap, incarnations, s...  \n",
       "2  [year, years, novel, journalist, company, open...  \n",
       "3                                  [screen, actress]  \n",
       "4  [buble weds, weds, buenos, actress, wedding, w...  "
      ]
     },
     "execution_count": 33,
     "metadata": {},
     "output_type": "execute_result"
    }
   ],
   "source": [
    "df.head()"
   ]
  },
  {
   "cell_type": "code",
   "execution_count": 34,
   "metadata": {},
   "outputs": [
    {
     "name": "stdout",
     "output_type": "stream",
     "text": [
      "Average precision: 0.7037037037037037\n",
      "Average recall: 1.0\n",
      "Average f-measure: 0.8150072150072151\n",
      "\n",
      "Filterred: \n",
      "\n",
      "Average precision: 0.5111111111111111\n",
      "Average recall: 0.6666666666666666\n",
      "Average f-measure: 0.561904761904762\n"
     ]
    }
   ],
   "source": [
    "get_metrics_by_column(\"RAKE_keywords\")\n",
    "print(\"\\nFilterred: \\n\")\n",
    "get_metrics_by_column(\"RAKE_keywords_cut\")"
   ]
  },
  {
   "cell_type": "code",
   "execution_count": 35,
   "metadata": {},
   "outputs": [
    {
     "name": "stdout",
     "output_type": "stream",
     "text": [
      "Average precision: 0.4200757575757576\n",
      "Average recall: 1.0\n",
      "Average f-measure: 0.5830512198798644\n",
      "\n",
      "Filterred: \n",
      "\n",
      "Average precision: 0.5666666666666668\n",
      "Average recall: 1.0\n",
      "Average f-measure: 0.6888888888888888\n"
     ]
    }
   ],
   "source": [
    "get_metrics_by_column(\"TextRank_keywords\")\n",
    "print(\"\\nFilterred: \\n\")\n",
    "get_metrics_by_column(\"TextRank_keywords_cut\")"
   ]
  },
  {
   "cell_type": "code",
   "execution_count": 36,
   "metadata": {},
   "outputs": [
    {
     "name": "stdout",
     "output_type": "stream",
     "text": [
      "Average precision: 0.4140793903951799\n",
      "Average recall: 1.0\n",
      "Average f-measure: 0.5771518251569402\n",
      "\n",
      "Filterred: \n",
      "\n",
      "Average precision: 0.5531746031746032\n",
      "Average recall: 1.0\n",
      "Average f-measure: 0.6851851851851851\n"
     ]
    }
   ],
   "source": [
    "get_metrics_by_column(\"summa_keywords\")\n",
    "print(\"\\nFilterred: \\n\")\n",
    "get_metrics_by_column(\"summa_keywords_cut\")"
   ]
  },
  {
   "cell_type": "markdown",
   "metadata": {},
   "source": [
    "#### Можно заметить, что для некоторых алгоритмов (summa, textRank) после применения шаблонов улучшился показатель по метрике f-measure, что показывает сбалансированное небольшое улучшение выделенных ключевых слов"
   ]
  },
  {
   "cell_type": "markdown",
   "metadata": {},
   "source": [
    "## (1 балл) Описать ошибки автоматического выделения ключевых слов (что выделяется лишнее, что не выделяется); предложить свои методы решения этих проблем."
   ]
  },
  {
   "cell_type": "code",
   "execution_count": 37,
   "metadata": {},
   "outputs": [
    {
     "name": "stdout",
     "output_type": "stream",
     "text": [
      "['emily', 'bones', 'pregnancy']\n",
      "['hugo cabret', 'dark shadows', 'chloe moretz', 'moretz', 'part', 'talks', 'movie', 'let', 'played']\n",
      "['film', 'uk', 'tree', 'life', 'thompson', 'certainly']\n",
      "['casting', 'part']\n",
      "['buenos aires', 'lopilato', 'argentina']\n",
      "['role', 'said', 'girl', 'way', 'hit', 'proud']\n"
     ]
    },
    {
     "data": {
      "text/plain": [
       "[None, None, None, None, None, None]"
      ]
     },
     "execution_count": 37,
     "metadata": {},
     "output_type": "execute_result"
    }
   ],
   "source": [
    "[print(i, end='\\n\\n') for i in df['RAKE_keywords'].values]"
   ]
  },
  {
   "cell_type": "markdown",
   "metadata": {},
   "source": [
    "Метод Rake выделяет меньше всего слов, но они довольно качественно описывают исходную разметку (до применения шаблонов показывает наибольший показатель по всем метрикам)"
   ]
  },
  {
   "cell_type": "code",
   "execution_count": 41,
   "metadata": {},
   "outputs": [
    {
     "name": "stdout",
     "output_type": "stream",
     "text": [
      "['deschanel', 'emily', 'bones', 'expecting', 'expectant', 'began', 'clothes', 'aunt', 'david']\n",
      "\n",
      "['collins', 'cast', 'casting', 'shadows', 'cabret', 'moretz', 'play', 'played', 'playing', 'soap', 'victoria', 'incarnations', 'sheen', 'dracula', 'mold gothic', 'screen', 'carolyn', 'barnabas']\n",
      "\n",
      "['depp', 'year', 'years', 'starring', 'star', 'novel', 'release', 'journalist', 'company', 'fox', 'distributor', 'mix', 'certainly', 'new film', 'coup', 'news']\n",
      "\n",
      "['superman', 'lane', 'kidder', 'lois', 'zack', 'screen', 'amy', 'adams', 'accomplished young', 'actress', 'wonderful']\n",
      "\n",
      "['lopilato', 'buble', 'argentine', 'buenos', 'concert', 'pop', 'woman', 'los', 'threw', 'high', 'rose', 'gray', 'chiffon', 'aires', 'civil', 'actress', 'player', 'juan', 'married', 'michael']\n",
      "\n",
      "['soren', 'big', 'larsson', 'adaptations', 'adaptation', 'adapt', 'justice', 'swedish', 'film', 'filming', 'mikael', 'journalist', 'novel', 'lisbeth', 'salander originally']\n",
      "\n"
     ]
    },
    {
     "data": {
      "text/plain": [
       "[None, None, None, None, None, None]"
      ]
     },
     "execution_count": 41,
     "metadata": {},
     "output_type": "execute_result"
    }
   ],
   "source": [
    "[print(i, end='\\n\\n') for i in df['TextRank_keywords'].values]"
   ]
  },
  {
   "cell_type": "markdown",
   "metadata": {},
   "source": [
    "Методы TextRank и summa выделяют много слов, что отчётливо подтверждается высоким показателем recall'a, то есть они угадывают много слов из разметки, но среди них много лишних"
   ]
  },
  {
   "cell_type": "code",
   "execution_count": 39,
   "metadata": {},
   "outputs": [
    {
     "name": "stdout",
     "output_type": "stream",
     "text": [
      "['emily', 'deschanel', 'bones', 'expecting', 'expectant', 'clothes', 'aunt', 'david', 'began', 'babies', 'baby']\n",
      "['collins', 'cast', 'casting', 'shadows', 'cabret', 'moretz', 'play', 'played', 'playing', 'soap', 'victoria', 'incarnations', 'sheen', 'mold gothic', 'dracula', 'screen', 'carolyn', 'barnabas']\n",
      "['depp', 'year', 'years', 'starring', 'star', 'novel', 'release', 'journalist', 'company', 'mix', 'opening', 'distributor', 'fox', 'new film', 'coup']\n",
      "['superman', 'lane', 'kidder', 'lois', 'zack', 'screen', 'amy', 'adams', 'wonderful', 'actress', 'accomplished young']\n",
      "['lopilato', 'argentine', 'buble weds', 'concert', 'buenos', 'pop', 'actress', 'ap', 'wedding', 'high', 'gray', 'los', 'woman', 'chiffon', 'rose', 'threw', 'tv star', 'player', 'juan']\n",
      "['soren', 'big', 'larsson', 'adaptations', 'adaptation', 'adapt', 'justice', 'swedish', 'film', 'filming', 'novel', 'mikael', 'journalist', 'lisbeth', 'salander originally']\n"
     ]
    },
    {
     "data": {
      "text/plain": [
       "[None, None, None, None, None, None]"
      ]
     },
     "execution_count": 39,
     "metadata": {},
     "output_type": "execute_result"
    }
   ],
   "source": [
    "[print(i, end='\\n\\n') for i in df['summa_keywords'].values]"
   ]
  },
  {
   "cell_type": "markdown",
   "metadata": {},
   "source": [
    "В целом методы хорошо выделяют ключевые слова и помогают понять тематику и основные мысли текста, однако имена собственные плохо выделяются (часто присутствует либо только имя, либо только фамилия) и это является недостатком.\n",
    "\n",
    "Некоторые алгоритмы выделяют много не несущих смысловой нагрузки слов (например, сertainly), которые без контекста не отражают тематику текста - и это недостаток."
   ]
  },
  {
   "cell_type": "markdown",
   "metadata": {},
   "source": [
    "### Некоторые методы решения качества выделения ключевых слов"
   ]
  },
  {
   "cell_type": "markdown",
   "metadata": {},
   "source": [
    "1) Как было сказано выше необходимо выделять имена собственные, ведь даже если они редко употребляются в тексте - в них зачастую содержится много информации. Можно просто брать все слова (кроме первого) в предложении, которые начинаются с заглавной буквы или использовать параллельно отдельные инструменты для выделения именованных сущностей.\n",
    "\n",
    "2) Можно использовать дополнительные параметры оценки важности слов, чтобы не допускать выделения некоторых токенов, которые по отдельности не несут в себе смысловой нагрузки (использовать TF-IDF для оценки значимости, нейросетевые алгоритмы и т. п.)"
   ]
  },
  {
   "cell_type": "code",
   "execution_count": null,
   "metadata": {},
   "outputs": [],
   "source": []
  },
  {
   "cell_type": "code",
   "execution_count": null,
   "metadata": {},
   "outputs": [],
   "source": []
  }
 ],
 "metadata": {
  "kernelspec": {
   "display_name": "Python 3",
   "language": "python",
   "name": "python3"
  },
  "language_info": {
   "codemirror_mode": {
    "name": "ipython",
    "version": 3
   },
   "file_extension": ".py",
   "mimetype": "text/x-python",
   "name": "python",
   "nbconvert_exporter": "python",
   "pygments_lexer": "ipython3",
   "version": "3.7.1"
  }
 },
 "nbformat": 4,
 "nbformat_minor": 4
}
