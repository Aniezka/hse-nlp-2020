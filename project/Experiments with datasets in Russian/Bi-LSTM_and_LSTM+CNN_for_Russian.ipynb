{
  "nbformat": 4,
  "nbformat_minor": 0,
  "metadata": {
    "colab": {
      "name": "bidirectional_lstm_imdb",
      "provenance": [],
      "collapsed_sections": [],
      "toc_visible": true
    },
    "kernelspec": {
      "display_name": "Python 3",
      "language": "python",
      "name": "python3"
    },
    "language_info": {
      "codemirror_mode": {
        "name": "ipython",
        "version": 3
      },
      "file_extension": ".py",
      "mimetype": "text/x-python",
      "name": "python",
      "nbconvert_exporter": "python",
      "pygments_lexer": "ipython3",
      "version": "3.7.0"
    }
  },
  "cells": [
    {
      "cell_type": "markdown",
      "metadata": {
        "id": "DHOci5yU4k54"
      },
      "source": [
        "#RuSentiment Dataset Preprocessing"
      ]
    },
    {
      "cell_type": "code",
      "metadata": {
        "id": "T8P5Uo3colSi",
        "outputId": "24462407-da98-4859-f7bf-bc57e68675d2",
        "colab": {
          "base_uri": "https://localhost:8080/"
        }
      },
      "source": [
        "from collections import defaultdict\n",
        "import numpy as np\n",
        "from tensorflow import keras\n",
        "from tensorflow.keras import layers\n",
        "import pandas as pd\n",
        "from nltk.tokenize import word_tokenize\n",
        "import nltk\n",
        "nltk.download('punkt')"
      ],
      "execution_count": 1,
      "outputs": [
        {
          "output_type": "stream",
          "text": [
            "[nltk_data] Downloading package punkt to /root/nltk_data...\n",
            "[nltk_data]   Package punkt is already up-to-date!\n"
          ],
          "name": "stdout"
        },
        {
          "output_type": "execute_result",
          "data": {
            "text/plain": [
              "True"
            ]
          },
          "metadata": {
            "tags": []
          },
          "execution_count": 1
        }
      ]
    },
    {
      "cell_type": "code",
      "metadata": {
        "id": "LkTdTgSQMnge"
      },
      "source": [
        "max_features = 20000  # Only consider the top 20k words\n",
        "maxlen = 20  # Only consider the first 200 words of text"
      ],
      "execution_count": 2,
      "outputs": []
    },
    {
      "cell_type": "code",
      "metadata": {
        "id": "S_U7NNOZon9i"
      },
      "source": [
        "df_preselected = pd.read_csv('rusentiment_preselected_posts.csv')\n",
        "df_random = pd.read_csv('rusentiment_random_posts.csv')\n",
        "\n",
        "df_train = pd.concat([df_preselected, df_random]).reset_index()\n",
        "df_test = pd.read_csv('rusentiment_test.csv')"
      ],
      "execution_count": 3,
      "outputs": []
    },
    {
      "cell_type": "code",
      "metadata": {
        "id": "AdEw037FB8pb"
      },
      "source": [
        "def data_preprocessing(df):\n",
        "  df_np = df[(df['label']=='positive')|(df['label']=='negative')]\n",
        "  text_tokenized = []\n",
        "  all_wf = []\n",
        "  for text in df_np['text']:\n",
        "    text_tokens = word_tokenize(text)\n",
        "    text_tokenized.append(text_tokens)\n",
        "    all_wf.extend(text_tokens)\n",
        "  df_np['text_tokenized'] = text_tokenized\n",
        "  fq_dict = defaultdict(int)\n",
        "  for wf in all_wf:\n",
        "    fq_dict[wf] += 1\n",
        "  x = []\n",
        "  for text_tokens in df_np['text_tokenized']:\n",
        "    emb = []\n",
        "    for w in text_tokens:\n",
        "      emb.append(fq_dict[w])\n",
        "    x.append(emb)\n",
        "  y = []\n",
        "  for label in df_np['label']:\n",
        "    if label=='negative':\n",
        "      y.append(0)\n",
        "    elif label=='positive':\n",
        "      y.append(1)\n",
        "  return x, y"
      ],
      "execution_count": 4,
      "outputs": []
    },
    {
      "cell_type": "code",
      "metadata": {
        "id": "5hJtmjstCHF5",
        "outputId": "622830ed-d41a-413c-bfdd-fa01334c112c",
        "colab": {
          "base_uri": "https://localhost:8080/"
        }
      },
      "source": [
        "x_train_ru, y_train_ru = data_preprocessing(df_train)\n",
        "x_test_ru, y_test_ru = data_preprocessing(df_test)\n",
        "\n",
        "print(len(x_train_ru), \"Training sequences\")\n",
        "print(len(x_test_ru), \"Validation sequences\")\n",
        "x_train_ru = np.array(keras.preprocessing.sequence.pad_sequences(x_train_ru, maxlen=maxlen))\n",
        "x_test_ru = np.array(keras.preprocessing.sequence.pad_sequences(x_test_ru, maxlen=maxlen))\n",
        "y_train_ru = np.array(y_train_ru)\n",
        "y_test_ru = np.array(y_test_ru)"
      ],
      "execution_count": 5,
      "outputs": [
        {
          "output_type": "stream",
          "text": [
            "/usr/local/lib/python3.6/dist-packages/ipykernel_launcher.py:9: SettingWithCopyWarning: \n",
            "A value is trying to be set on a copy of a slice from a DataFrame.\n",
            "Try using .loc[row_indexer,col_indexer] = value instead\n",
            "\n",
            "See the caveats in the documentation: https://pandas.pydata.org/pandas-docs/stable/user_guide/indexing.html#returning-a-view-versus-a-copy\n",
            "  if __name__ == '__main__':\n"
          ],
          "name": "stderr"
        },
        {
          "output_type": "stream",
          "text": [
            "9764 Training sequences\n",
            "794 Validation sequences\n"
          ],
          "name": "stdout"
        }
      ]
    },
    {
      "cell_type": "code",
      "metadata": {
        "id": "ZU8IL6eNW3md",
        "outputId": "e2b4cf42-477a-4a0c-adc9-a67c9d262f44",
        "colab": {
          "base_uri": "https://localhost:8080/"
        }
      },
      "source": [
        "print(x_train_ru[0])\n",
        "print(df_train['text'][0])"
      ],
      "execution_count": 6,
      "outputs": [
        {
          "output_type": "stream",
          "text": [
            "[   0    0   18  539  682 2629  272  567   32    3  259   84  679 5418\n",
            "  309    1   77    1    1 5418]\n",
            "Прорвём информационную блокаду изнутри. \n"
          ],
          "name": "stdout"
        }
      ]
    },
    {
      "cell_type": "markdown",
      "metadata": {
        "id": "dmwt5yaZoi-t"
      },
      "source": [
        "## BiLSTM"
      ]
    },
    {
      "cell_type": "code",
      "metadata": {
        "id": "3qGcTSEZoi-t"
      },
      "source": [
        "import numpy as np\n",
        "from tensorflow import keras\n",
        "from tensorflow.keras import layers\n",
        "\n",
        "max_features = 20000  # Only consider the top 20k words\n",
        "maxlen = 200  # Only consider the first 200 words of text"
      ],
      "execution_count": 7,
      "outputs": []
    },
    {
      "cell_type": "code",
      "metadata": {
        "id": "3RsBn8twoi-v"
      },
      "source": [
        "# Input for variable-length sequences of integers\n",
        "inputs = keras.Input(shape=(None,), dtype=\"int32\")\n",
        "# Embed each integer in a 128-dimensional vector\n",
        "x = layers.Embedding(max_features, 128)(inputs)\n",
        "# Add 2 bidirectional LSTMs\n",
        "x = layers.Bidirectional(layers.LSTM(64, return_sequences=True))(x)\n",
        "x = layers.Bidirectional(layers.LSTM(64))(x)\n",
        "# Add a classifier\n",
        "outputs = layers.Dense(1, activation=\"sigmoid\")(x)\n",
        "model = keras.Model(inputs, outputs)\n",
        "#model.summary()"
      ],
      "execution_count": 8,
      "outputs": []
    },
    {
      "cell_type": "code",
      "metadata": {
        "id": "Mu1WFdZpD_17"
      },
      "source": [
        "from keras import backend as K\n",
        "\n",
        "def recall_m(y_true, y_pred):\n",
        "    true_positives = K.sum(K.round(K.clip(y_true * y_pred, 0, 1)))\n",
        "    possible_positives = K.sum(K.round(K.clip(y_true, 0, 1)))\n",
        "    recall = true_positives / (possible_positives + K.epsilon())\n",
        "    return recall\n",
        "\n",
        "def precision_m(y_true, y_pred):\n",
        "    true_positives = K.sum(K.round(K.clip(y_true * y_pred, 0, 1)))\n",
        "    predicted_positives = K.sum(K.round(K.clip(y_pred, 0, 1)))\n",
        "    precision = true_positives / (predicted_positives + K.epsilon())\n",
        "    return precision\n",
        "\n",
        "def f1_m(y_true, y_pred):\n",
        "    precision = precision_m(y_true, y_pred)\n",
        "    recall = recall_m(y_true, y_pred)\n",
        "    return 2*((precision*recall)/(precision+recall+K.epsilon()))"
      ],
      "execution_count": 9,
      "outputs": []
    },
    {
      "cell_type": "code",
      "metadata": {
        "id": "91bjNAGeRb3T",
        "outputId": "41db7f61-76ec-4009-feaf-c7583a42c3d7",
        "colab": {
          "base_uri": "https://localhost:8080/"
        }
      },
      "source": [
        "x_test_ru"
      ],
      "execution_count": 10,
      "outputs": [
        {
          "output_type": "execute_result",
          "data": {
            "text/plain": [
              "array([[  0,   0,   0, ...,  10,  11,   5],\n",
              "       [  0,   0,   0, ..., 193,   1, 415],\n",
              "       [  0,   0,   0, ..., 815, 815, 815],\n",
              "       ...,\n",
              "       [  9,   1, 815, ..., 815, 815, 815],\n",
              "       [  0,   0,   0, ...,  20,   1, 815],\n",
              "       [  0,   0,   0, ..., 815, 815, 815]], dtype=int32)"
            ]
          },
          "metadata": {
            "tags": []
          },
          "execution_count": 10
        }
      ]
    },
    {
      "cell_type": "code",
      "metadata": {
        "id": "KYkF1Z-hDC87",
        "outputId": "de7a9716-daee-4c87-c0e8-0d9b908083d8",
        "colab": {
          "base_uri": "https://localhost:8080/"
        }
      },
      "source": [
        "model.compile(\"adam\", \"binary_crossentropy\", metrics=[\"accuracy\", f1_m, precision_m, recall_m])\n",
        "model.fit(x_train_ru, y_train_ru, batch_size=32, epochs=2, validation_data=(x_test_ru, y_test_ru))"
      ],
      "execution_count": 11,
      "outputs": [
        {
          "output_type": "stream",
          "text": [
            "Epoch 1/2\n",
            "306/306 [==============================] - 33s 82ms/step - loss: 0.5585 - accuracy: 0.7062 - f1_m: 0.7791 - precision_m: 0.7296 - recall_m: 0.8609 - val_loss: 0.6856 - val_accuracy: 0.6474 - val_f1_m: 0.7599 - val_precision_m: 0.7016 - val_recall_m: 0.8371\n",
            "Epoch 2/2\n",
            "306/306 [==============================] - 24s 77ms/step - loss: 0.4838 - accuracy: 0.7710 - f1_m: 0.8210 - precision_m: 0.7949 - recall_m: 0.8568 - val_loss: 0.6955 - val_accuracy: 0.6360 - val_f1_m: 0.7503 - val_precision_m: 0.6948 - val_recall_m: 0.8231\n"
          ],
          "name": "stdout"
        },
        {
          "output_type": "execute_result",
          "data": {
            "text/plain": [
              "<tensorflow.python.keras.callbacks.History at 0x7f4029cad8d0>"
            ]
          },
          "metadata": {
            "tags": []
          },
          "execution_count": 11
        }
      ]
    },
    {
      "cell_type": "markdown",
      "metadata": {
        "id": "uqbmv_Fmoi-y"
      },
      "source": [
        "##CNN+LSTM"
      ]
    },
    {
      "cell_type": "code",
      "metadata": {
        "id": "LM_emb2jtoak"
      },
      "source": [
        "from __future__ import print_function\n",
        "\n",
        "from keras.preprocessing import sequence\n",
        "from keras.models import Sequential\n",
        "from keras.layers import Dense, Dropout, Activation\n",
        "from keras.layers import Embedding\n",
        "from keras.layers import LSTM\n",
        "from keras.layers import Conv1D, MaxPooling1D\n",
        "from keras.datasets import imdb\n",
        "\n",
        "# Embedding\n",
        "max_features = 20000\n",
        "maxlen = 100\n",
        "embedding_size = 128\n",
        "\n",
        "# Convolution\n",
        "kernel_size = 5\n",
        "filters = 64\n",
        "pool_size = 4\n",
        "\n",
        "# LSTM\n",
        "lstm_output_size = 70\n",
        "\n",
        "# Training\n",
        "batch_size = 30\n",
        "epochs = 2\n",
        "\n",
        "model = Sequential()\n",
        "model.add(Embedding(max_features, embedding_size, input_length=maxlen))\n",
        "model.add(Dropout(0.25))\n",
        "model.add(Conv1D(filters,\n",
        "                 kernel_size,\n",
        "                 padding='valid',\n",
        "                 activation='relu',\n",
        "                 strides=1))\n",
        "model.add(MaxPooling1D(pool_size=pool_size))\n",
        "model.add(LSTM(lstm_output_size))\n",
        "model.add(Dense(1))\n",
        "model.add(Activation('sigmoid'))"
      ],
      "execution_count": 12,
      "outputs": []
    },
    {
      "cell_type": "code",
      "metadata": {
        "id": "UKwgE59vM8os",
        "outputId": "88f6a669-b08b-485c-bc51-2cbc9bd846c6",
        "colab": {
          "base_uri": "https://localhost:8080/"
        }
      },
      "source": [
        "model.compile(loss='binary_crossentropy',\n",
        "              optimizer='adam',\n",
        "              metrics=[\"accuracy\", f1_m, precision_m, recall_m])\n",
        "\n",
        "print('Train...')\n",
        "model.fit(np.array(x_train_ru), np.array(y_train_ru),\n",
        "          batch_size=batch_size,\n",
        "          epochs=epochs,\n",
        "          validation_data=(np.array(x_test_ru), np.array(y_test_ru)))"
      ],
      "execution_count": 13,
      "outputs": [
        {
          "output_type": "stream",
          "text": [
            "Train...\n",
            "Epoch 1/2\n",
            "WARNING:tensorflow:Model was constructed with shape (None, 100) for input KerasTensor(type_spec=TensorSpec(shape=(None, 100), dtype=tf.float32, name='embedding_1_input'), name='embedding_1_input', description=\"created by layer 'embedding_1_input'\"), but it was called on an input with incompatible shape (None, 20).\n",
            "WARNING:tensorflow:Model was constructed with shape (None, 100) for input KerasTensor(type_spec=TensorSpec(shape=(None, 100), dtype=tf.float32, name='embedding_1_input'), name='embedding_1_input', description=\"created by layer 'embedding_1_input'\"), but it was called on an input with incompatible shape (None, 20).\n",
            "326/326 [==============================] - ETA: 0s - loss: 0.5775 - accuracy: 0.6947 - f1_m: 0.7811 - precision_m: 0.7141 - recall_m: 0.8903WARNING:tensorflow:Model was constructed with shape (None, 100) for input KerasTensor(type_spec=TensorSpec(shape=(None, 100), dtype=tf.float32, name='embedding_1_input'), name='embedding_1_input', description=\"created by layer 'embedding_1_input'\"), but it was called on an input with incompatible shape (None, 20).\n",
            "326/326 [==============================] - 14s 37ms/step - loss: 0.5774 - accuracy: 0.6948 - f1_m: 0.7811 - precision_m: 0.7142 - recall_m: 0.8902 - val_loss: 0.6461 - val_accuracy: 0.6637 - val_f1_m: 0.7690 - val_precision_m: 0.7132 - val_recall_m: 0.8421\n",
            "Epoch 2/2\n",
            "326/326 [==============================] - 12s 36ms/step - loss: 0.4735 - accuracy: 0.7737 - f1_m: 0.8211 - precision_m: 0.7957 - recall_m: 0.8572 - val_loss: 0.6650 - val_accuracy: 0.6285 - val_f1_m: 0.7153 - val_precision_m: 0.7352 - val_recall_m: 0.7060\n"
          ],
          "name": "stdout"
        },
        {
          "output_type": "execute_result",
          "data": {
            "text/plain": [
              "<tensorflow.python.keras.callbacks.History at 0x7f40212dd5c0>"
            ]
          },
          "metadata": {
            "tags": []
          },
          "execution_count": 13
        }
      ]
    }
  ]
}